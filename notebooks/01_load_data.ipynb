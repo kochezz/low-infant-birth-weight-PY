{
 "cells": [
  {
   "cell_type": "markdown",
   "id": "8078d1f3",
   "metadata": {},
   "source": [
    "# Assignment_Binary Logistic Regression using Python"
   ]
  },
  {
   "cell_type": "markdown",
   "id": "19654308",
   "metadata": {},
   "source": [
    "BACKGROUND:\n",
    "\n",
    "The Data for a Study of Risk Factors Associated with Low Infant Birth Weight. Data were collected at Baystate Medical Center, Springfield, Massachusetts."
   ]
  },
  {
   "cell_type": "markdown",
   "id": "96a3740b",
   "metadata": {},
   "source": [
    "Step 1: Import Libraries"
   ]
  },
  {
   "cell_type": "code",
   "execution_count": 32,
   "id": "ebe03e3a",
   "metadata": {},
   "outputs": [
    {
     "data": {
      "text/plain": [
       "True"
      ]
     },
     "execution_count": 32,
     "metadata": {},
     "output_type": "execute_result"
    }
   ],
   "source": [
    "from dotenv import load_dotenv\n",
    "load_dotenv()\n",
    "\n"
   ]
  },
  {
   "cell_type": "code",
   "execution_count": 37,
   "id": "97d832cd",
   "metadata": {},
   "outputs": [],
   "source": [
    "import os\n",
    "import pandas as pd\n",
    "from sqlalchemy import create_engine\n",
    "from urllib.parse import quote_plus"
   ]
  },
  {
   "cell_type": "markdown",
   "id": "b9d06f6f",
   "metadata": {},
   "source": [
    "Step 2: Pull dataset from Neon.Tech PostgreSQL database and prepare for EDA"
   ]
  },
  {
   "cell_type": "code",
   "execution_count": 40,
   "id": "e44ab2d6",
   "metadata": {},
   "outputs": [
    {
     "data": {
      "application/vnd.microsoft.datawrangler.viewer.v0+json": {
       "columns": [
        {
         "name": "index",
         "rawType": "int64",
         "type": "integer"
        },
        {
         "name": "sr_no",
         "rawType": "float64",
         "type": "float"
        },
        {
         "name": "id",
         "rawType": "float64",
         "type": "float"
        },
        {
         "name": "low",
         "rawType": "float64",
         "type": "float"
        },
        {
         "name": "age",
         "rawType": "float64",
         "type": "float"
        },
        {
         "name": "lwt",
         "rawType": "float64",
         "type": "float"
        },
        {
         "name": "race",
         "rawType": "float64",
         "type": "float"
        },
        {
         "name": "smoke",
         "rawType": "float64",
         "type": "float"
        },
        {
         "name": "ptl",
         "rawType": "float64",
         "type": "float"
        },
        {
         "name": "ht",
         "rawType": "float64",
         "type": "float"
        },
        {
         "name": "ui",
         "rawType": "float64",
         "type": "float"
        },
        {
         "name": "ftv",
         "rawType": "float64",
         "type": "float"
        }
       ],
       "conversionMethod": "pd.DataFrame",
       "ref": "81a3d9a7-c55c-450e-b5d4-bfafd66122a2",
       "rows": [
        [
         "0",
         "1.0",
         "85.0",
         "0.0",
         "19.0",
         "182.0",
         "2.0",
         "0.0",
         "0.0",
         "0.0",
         "0.0",
         "0.0"
        ],
        [
         "1",
         "2.0",
         "86.0",
         "0.0",
         "33.0",
         "155.0",
         "3.0",
         "0.0",
         "0.0",
         "0.0",
         "0.0",
         "3.0"
        ],
        [
         "2",
         "3.0",
         "87.0",
         "0.0",
         "20.0",
         "105.0",
         "1.0",
         "1.0",
         "0.0",
         "0.0",
         "0.0",
         "1.0"
        ],
        [
         "3",
         "4.0",
         "88.0",
         "0.0",
         "21.0",
         "108.0",
         "1.0",
         "1.0",
         "0.0",
         "0.0",
         "1.0",
         "2.0"
        ],
        [
         "4",
         "5.0",
         "89.0",
         "0.0",
         "18.0",
         "107.0",
         "1.0",
         "1.0",
         "0.0",
         "0.0",
         "1.0",
         "0.0"
        ]
       ],
       "shape": {
        "columns": 11,
        "rows": 5
       }
      },
      "text/html": [
       "<div>\n",
       "<style scoped>\n",
       "    .dataframe tbody tr th:only-of-type {\n",
       "        vertical-align: middle;\n",
       "    }\n",
       "\n",
       "    .dataframe tbody tr th {\n",
       "        vertical-align: top;\n",
       "    }\n",
       "\n",
       "    .dataframe thead th {\n",
       "        text-align: right;\n",
       "    }\n",
       "</style>\n",
       "<table border=\"1\" class=\"dataframe\">\n",
       "  <thead>\n",
       "    <tr style=\"text-align: right;\">\n",
       "      <th></th>\n",
       "      <th>sr_no</th>\n",
       "      <th>id</th>\n",
       "      <th>low</th>\n",
       "      <th>age</th>\n",
       "      <th>lwt</th>\n",
       "      <th>race</th>\n",
       "      <th>smoke</th>\n",
       "      <th>ptl</th>\n",
       "      <th>ht</th>\n",
       "      <th>ui</th>\n",
       "      <th>ftv</th>\n",
       "    </tr>\n",
       "  </thead>\n",
       "  <tbody>\n",
       "    <tr>\n",
       "      <th>0</th>\n",
       "      <td>1.0</td>\n",
       "      <td>85.0</td>\n",
       "      <td>0.0</td>\n",
       "      <td>19.0</td>\n",
       "      <td>182.0</td>\n",
       "      <td>2.0</td>\n",
       "      <td>0.0</td>\n",
       "      <td>0.0</td>\n",
       "      <td>0.0</td>\n",
       "      <td>0.0</td>\n",
       "      <td>0.0</td>\n",
       "    </tr>\n",
       "    <tr>\n",
       "      <th>1</th>\n",
       "      <td>2.0</td>\n",
       "      <td>86.0</td>\n",
       "      <td>0.0</td>\n",
       "      <td>33.0</td>\n",
       "      <td>155.0</td>\n",
       "      <td>3.0</td>\n",
       "      <td>0.0</td>\n",
       "      <td>0.0</td>\n",
       "      <td>0.0</td>\n",
       "      <td>0.0</td>\n",
       "      <td>3.0</td>\n",
       "    </tr>\n",
       "    <tr>\n",
       "      <th>2</th>\n",
       "      <td>3.0</td>\n",
       "      <td>87.0</td>\n",
       "      <td>0.0</td>\n",
       "      <td>20.0</td>\n",
       "      <td>105.0</td>\n",
       "      <td>1.0</td>\n",
       "      <td>1.0</td>\n",
       "      <td>0.0</td>\n",
       "      <td>0.0</td>\n",
       "      <td>0.0</td>\n",
       "      <td>1.0</td>\n",
       "    </tr>\n",
       "    <tr>\n",
       "      <th>3</th>\n",
       "      <td>4.0</td>\n",
       "      <td>88.0</td>\n",
       "      <td>0.0</td>\n",
       "      <td>21.0</td>\n",
       "      <td>108.0</td>\n",
       "      <td>1.0</td>\n",
       "      <td>1.0</td>\n",
       "      <td>0.0</td>\n",
       "      <td>0.0</td>\n",
       "      <td>1.0</td>\n",
       "      <td>2.0</td>\n",
       "    </tr>\n",
       "    <tr>\n",
       "      <th>4</th>\n",
       "      <td>5.0</td>\n",
       "      <td>89.0</td>\n",
       "      <td>0.0</td>\n",
       "      <td>18.0</td>\n",
       "      <td>107.0</td>\n",
       "      <td>1.0</td>\n",
       "      <td>1.0</td>\n",
       "      <td>0.0</td>\n",
       "      <td>0.0</td>\n",
       "      <td>1.0</td>\n",
       "      <td>0.0</td>\n",
       "    </tr>\n",
       "  </tbody>\n",
       "</table>\n",
       "</div>"
      ],
      "text/plain": [
       "   sr_no    id  low   age    lwt  race  smoke  ptl   ht   ui  ftv\n",
       "0    1.0  85.0  0.0  19.0  182.0   2.0    0.0  0.0  0.0  0.0  0.0\n",
       "1    2.0  86.0  0.0  33.0  155.0   3.0    0.0  0.0  0.0  0.0  3.0\n",
       "2    3.0  87.0  0.0  20.0  105.0   1.0    1.0  0.0  0.0  0.0  1.0\n",
       "3    4.0  88.0  0.0  21.0  108.0   1.0    1.0  0.0  0.0  1.0  2.0\n",
       "4    5.0  89.0  0.0  18.0  107.0   1.0    1.0  0.0  0.0  1.0  0.0"
      ]
     },
     "execution_count": 40,
     "metadata": {},
     "output_type": "execute_result"
    }
   ],
   "source": [
    "# Load environment variables\n",
    "load_dotenv()\n",
    "\n",
    "# Fetch and encode credentials\n",
    "DB_HOST = os.getenv(\"DB_HOST\")\n",
    "DB_PORT = os.getenv(\"DB_PORT\")\n",
    "DB_NAME = os.getenv(\"DB_NAME\")\n",
    "DB_USER = os.getenv(\"DB_USER\")\n",
    "password_raw = os.getenv(\"DB_PASSWORD\")\n",
    "\n",
    "if not all([DB_HOST, DB_PORT, DB_NAME, DB_USER, password_raw]):\n",
    "    raise EnvironmentError(\"One or more database environment variables are missing.\")\n",
    "\n",
    "DB_PASSWORD = quote_plus(password_raw)\n",
    "\n",
    "# Create connection string\n",
    "conn_str = f\"postgresql+psycopg2://{DB_USER}:{DB_PASSWORD}@{DB_HOST}:{DB_PORT}/{DB_NAME}\"\n",
    "\n",
    "# Connect and query\n",
    "engine = create_engine(conn_str)\n",
    "birth_wt_data = pd.read_sql(\"SELECT * FROM birth_weight\", engine)\n",
    "birth_wt_data.head()"
   ]
  },
  {
   "cell_type": "markdown",
   "id": "7407520d",
   "metadata": {},
   "source": [
    "Step 3: Save pulled data set into the local folder for further analysis"
   ]
  },
  {
   "cell_type": "code",
   "execution_count": 41,
   "id": "e42d308d",
   "metadata": {},
   "outputs": [],
   "source": [
    "# Set Working Directory\n",
    "os.chdir(r\"C:\\Users\\willi\\GitHub\\APM_low_infant_birth_wt_PY\\data\\raw\")"
   ]
  },
  {
   "cell_type": "code",
   "execution_count": 42,
   "id": "431f9ded",
   "metadata": {},
   "outputs": [
    {
     "name": "stdout",
     "output_type": "stream",
     "text": [
      "✅ Raw data saved successfully.\n"
     ]
    }
   ],
   "source": [
    "birth_wt_data.to_csv(r\"birth_weight_raw.csv\", index=False)\n",
    "print(\"✅ Raw data saved successfully.\")"
   ]
  }
 ],
 "metadata": {
  "kernelspec": {
   "display_name": "lean-ds-env",
   "language": "python",
   "name": "python3"
  },
  "language_info": {
   "codemirror_mode": {
    "name": "ipython",
    "version": 3
   },
   "file_extension": ".py",
   "mimetype": "text/x-python",
   "name": "python",
   "nbconvert_exporter": "python",
   "pygments_lexer": "ipython3",
   "version": "3.10.16"
  }
 },
 "nbformat": 4,
 "nbformat_minor": 5
}
